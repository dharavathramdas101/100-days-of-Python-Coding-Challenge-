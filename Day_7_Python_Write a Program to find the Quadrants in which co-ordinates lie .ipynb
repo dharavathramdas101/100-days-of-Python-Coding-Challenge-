{
 "cells": [
  {
   "cell_type": "markdown",
   "id": "77f615b9",
   "metadata": {},
   "source": [
    "### Day_7_Python_Write a Program to find the Quadrants in which co-ordinates lie  ??"
   ]
  },
  {
   "cell_type": "code",
   "execution_count": 3,
   "id": "61887a5b",
   "metadata": {},
   "outputs": [
    {
     "name": "stdout",
     "output_type": "stream",
     "text": [
      "55\n",
      "-66\n",
      "point ( 55 , -66 ) lies in the Fourth quadrant\n"
     ]
    }
   ],
   "source": [
    "def quadrants():\n",
    "    x = int(input())\n",
    "    y = int(input())\n",
    "\n",
    "    # find true condition of first quadrant\n",
    "    if x > 0 and y > 0:\n",
    "        print(\"point (\", x, \",\", y, \") lies in the First quadrant\")\n",
    "\n",
    "    # find second quadrant\n",
    "    elif x < 0 and y > 0:\n",
    "        print(\"point (\", x, \",\", y, \") lies in the Second quadrant\")\n",
    "\n",
    "    # To find third quadrant\n",
    "    elif x < 0 and y < 0: \n",
    "        print(\"point (\", x, \",\", y, \") lies in the Third quadrant\")\n",
    "     # To find Fourth quadrant \n",
    "    elif x > 0 and y < 0:\n",
    "        print(\"point (\", x, \",\", y, \") lies in the Fourth quadrant\")\n",
    "\n",
    "    # To find does not lie on origin\n",
    "    elif x == 0 and y == 0:\n",
    "        print(\"point (\", x, \",\", y, \") lies at the origin\")\n",
    "\n",
    "    # On x-axis\n",
    "    elif y == 0 and x != 0:\n",
    "        print(\"point (\", x, \",\", y, \") on x-axis\")\n",
    "\n",
    "    # On y-axis\n",
    "    elif x == 0 and y != 0:\n",
    "        print(\"point (\", x, \",\", y, \") on at y-axis\")\n",
    "quadrants()"
   ]
  },
  {
   "cell_type": "code",
   "execution_count": 4,
   "id": "8c087beb",
   "metadata": {},
   "outputs": [
    {
     "name": "stdout",
     "output_type": "stream",
     "text": [
      "0\n",
      "0\n",
      "point ( 0 , 0 ) lies at the origin\n"
     ]
    }
   ],
   "source": [
    "quadrants()"
   ]
  },
  {
   "cell_type": "code",
   "execution_count": 5,
   "id": "a31fca2f",
   "metadata": {},
   "outputs": [
    {
     "name": "stdout",
     "output_type": "stream",
     "text": [
      "-1\n",
      "-1\n",
      "point ( -1 , -1 ) lies in the Third quadrant\n"
     ]
    }
   ],
   "source": [
    "quadrants()"
   ]
  },
  {
   "cell_type": "code",
   "execution_count": 6,
   "id": "d9992138",
   "metadata": {},
   "outputs": [
    {
     "name": "stdout",
     "output_type": "stream",
     "text": [
      "-4\n",
      "7\n",
      "point ( -4 , 7 ) lies in the Second quadrant\n"
     ]
    }
   ],
   "source": [
    "quadrants()"
   ]
  },
  {
   "cell_type": "code",
   "execution_count": 7,
   "id": "80d68f50",
   "metadata": {},
   "outputs": [
    {
     "name": "stdout",
     "output_type": "stream",
     "text": [
      "7\n",
      "8\n",
      "point ( 7 , 8 ) lies in the First quadrant\n"
     ]
    }
   ],
   "source": [
    "quadrants()"
   ]
  },
  {
   "cell_type": "code",
   "execution_count": null,
   "id": "1628225b",
   "metadata": {},
   "outputs": [],
   "source": []
  }
 ],
 "metadata": {
  "kernelspec": {
   "display_name": "Python 3 (ipykernel)",
   "language": "python",
   "name": "python3"
  },
  "language_info": {
   "codemirror_mode": {
    "name": "ipython",
    "version": 3
   },
   "file_extension": ".py",
   "mimetype": "text/x-python",
   "name": "python",
   "nbconvert_exporter": "python",
   "pygments_lexer": "ipython3",
   "version": "3.9.7"
  }
 },
 "nbformat": 4,
 "nbformat_minor": 5
}
