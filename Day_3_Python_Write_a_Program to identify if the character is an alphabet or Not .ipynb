{
 "cells": [
  {
   "cell_type": "markdown",
   "id": "79b62dca",
   "metadata": {},
   "source": [
    "### Day_3_Python_Write_a_Program to identify if the character is an alphabet or Not ?"
   ]
  },
  {
   "cell_type": "code",
   "execution_count": 9,
   "id": "d38da9a2",
   "metadata": {},
   "outputs": [
    {
     "name": "stdout",
     "output_type": "stream",
     "text": [
      "Ramdas\n"
     ]
    },
    {
     "data": {
      "text/plain": [
       "True"
      ]
     },
     "execution_count": 9,
     "metadata": {},
     "output_type": "execute_result"
    }
   ],
   "source": [
    "def alphabetornot(string):\n",
    "    if string.isalpha() :\n",
    "        return True\n",
    "    else:\n",
    "        return False\n",
    "\n",
    "alphabetornot(input())"
   ]
  },
  {
   "cell_type": "code",
   "execution_count": 10,
   "id": "20ea3ba2",
   "metadata": {},
   "outputs": [
    {
     "name": "stdout",
     "output_type": "stream",
     "text": [
      "Ramdas123\n"
     ]
    },
    {
     "data": {
      "text/plain": [
       "False"
      ]
     },
     "execution_count": 10,
     "metadata": {},
     "output_type": "execute_result"
    }
   ],
   "source": [
    "alphabetornot(input())"
   ]
  },
  {
   "cell_type": "code",
   "execution_count": 11,
   "id": "53506478",
   "metadata": {},
   "outputs": [
    {
     "name": "stdout",
     "output_type": "stream",
     "text": [
      "12345\n"
     ]
    },
    {
     "data": {
      "text/plain": [
       "False"
      ]
     },
     "execution_count": 11,
     "metadata": {},
     "output_type": "execute_result"
    }
   ],
   "source": [
    "alphabetornot(input())"
   ]
  },
  {
   "cell_type": "code",
   "execution_count": null,
   "id": "3bdb6be6",
   "metadata": {},
   "outputs": [],
   "source": []
  }
 ],
 "metadata": {
  "kernelspec": {
   "display_name": "Python 3 (ipykernel)",
   "language": "python",
   "name": "python3"
  },
  "language_info": {
   "codemirror_mode": {
    "name": "ipython",
    "version": 3
   },
   "file_extension": ".py",
   "mimetype": "text/x-python",
   "name": "python",
   "nbconvert_exporter": "python",
   "pygments_lexer": "ipython3",
   "version": "3.9.7"
  }
 },
 "nbformat": 4,
 "nbformat_minor": 5
}
