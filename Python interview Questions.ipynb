{
 "cells": [
  {
   "cell_type": "markdown",
   "id": "b2e34846",
   "metadata": {},
   "source": [
    "### Dharavath Ramdas\n",
    "### Python Coding interview questions link\n",
    "github link : https://lnkd.in/gNZs5b9N"
   ]
  },
  {
   "cell_type": "markdown",
   "id": "adf4cb4e",
   "metadata": {},
   "source": [
    "## Python interview Questions"
   ]
  },
  {
   "cell_type": "markdown",
   "id": "2b3134dd",
   "metadata": {},
   "source": [
    "### 1_Python_Print_Hello_World"
   ]
  },
  {
   "cell_type": "code",
   "execution_count": 1,
   "id": "1e7732a0",
   "metadata": {},
   "outputs": [
    {
     "name": "stdout",
     "output_type": "stream",
     "text": [
      "Hello World\n"
     ]
    }
   ],
   "source": [
    "print(\"Hello World\")"
   ]
  },
  {
   "cell_type": "markdown",
   "id": "91a0776c",
   "metadata": {},
   "source": [
    "### 2_Python_program to identify if the character is vowel or consonant ??"
   ]
  },
  {
   "cell_type": "code",
   "execution_count": 9,
   "id": "47513b74",
   "metadata": {},
   "outputs": [
    {
     "name": "stdout",
     "output_type": "stream",
     "text": [
      "r\n"
     ]
    },
    {
     "data": {
      "text/plain": [
       "'Consonant'"
      ]
     },
     "execution_count": 9,
     "metadata": {},
     "output_type": "execute_result"
    }
   ],
   "source": [
    "def vowel_or_consonant(string):\n",
    "    vowel = \"aeiouAEIOU\"\n",
    "    for i in string:\n",
    "        if i in vowel:\n",
    "            return \"Vowel\"\n",
    "        else:\n",
    "            return \"Consonant\"\n",
    "vowel_or_consonant(input())"
   ]
  },
  {
   "cell_type": "code",
   "execution_count": 10,
   "id": "281b264b",
   "metadata": {},
   "outputs": [
    {
     "name": "stdout",
     "output_type": "stream",
     "text": [
      "a\n"
     ]
    },
    {
     "data": {
      "text/plain": [
       "'Vowel'"
      ]
     },
     "execution_count": 10,
     "metadata": {},
     "output_type": "execute_result"
    }
   ],
   "source": [
    "vowel_or_consonant(input())"
   ]
  },
  {
   "cell_type": "code",
   "execution_count": 11,
   "id": "117ed4eb",
   "metadata": {},
   "outputs": [
    {
     "name": "stdout",
     "output_type": "stream",
     "text": [
      "m\n"
     ]
    },
    {
     "data": {
      "text/plain": [
       "'Consonant'"
      ]
     },
     "execution_count": 11,
     "metadata": {},
     "output_type": "execute_result"
    }
   ],
   "source": [
    "vowel_or_consonant(input())"
   ]
  },
  {
   "cell_type": "markdown",
   "id": "a8336bbe",
   "metadata": {},
   "source": [
    "### 3_Python_Write_a_Program to identify if the character is an alphabet or Not ?"
   ]
  },
  {
   "cell_type": "code",
   "execution_count": 3,
   "id": "1c717cd7",
   "metadata": {},
   "outputs": [
    {
     "name": "stdout",
     "output_type": "stream",
     "text": [
      "Ram\n"
     ]
    },
    {
     "data": {
      "text/plain": [
       "True"
      ]
     },
     "execution_count": 3,
     "metadata": {},
     "output_type": "execute_result"
    }
   ],
   "source": [
    "def alphabetornot(string):\n",
    "    if string.isalpha() :\n",
    "        return True\n",
    "    else:\n",
    "        return False\n",
    "\n",
    "alphabetornot(input())"
   ]
  },
  {
   "cell_type": "code",
   "execution_count": 12,
   "id": "037e8db3",
   "metadata": {},
   "outputs": [
    {
     "name": "stdout",
     "output_type": "stream",
     "text": [
      "ramdas123\n"
     ]
    },
    {
     "data": {
      "text/plain": [
       "False"
      ]
     },
     "execution_count": 12,
     "metadata": {},
     "output_type": "execute_result"
    }
   ],
   "source": [
    "alphabetornot(input())"
   ]
  },
  {
   "cell_type": "code",
   "execution_count": 13,
   "id": "2eb007d4",
   "metadata": {},
   "outputs": [
    {
     "name": "stdout",
     "output_type": "stream",
     "text": [
      "12345\n"
     ]
    },
    {
     "data": {
      "text/plain": [
       "False"
      ]
     },
     "execution_count": 13,
     "metadata": {},
     "output_type": "execute_result"
    }
   ],
   "source": [
    "alphabetornot(input())"
   ]
  },
  {
   "cell_type": "markdown",
   "id": "35664e40",
   "metadata": {},
   "source": [
    "### 4_Python_Write a Program to check entered number is Positive or Negative ??"
   ]
  },
  {
   "cell_type": "code",
   "execution_count": 4,
   "id": "2cb04225",
   "metadata": {},
   "outputs": [
    {
     "name": "stdout",
     "output_type": "stream",
     "text": [
      "55\n"
     ]
    },
    {
     "data": {
      "text/plain": [
       "'Positive'"
      ]
     },
     "execution_count": 4,
     "metadata": {},
     "output_type": "execute_result"
    }
   ],
   "source": [
    "def positive_or_negative(number):\n",
    "    if number < 0:\n",
    "        return \"Negative\"\n",
    "    \n",
    "    elif number >= 0:\n",
    "        return \"Positive\"\n",
    "    else:\n",
    "        return \"Enter correct input\"\n",
    "positive_or_negative(int(input()))"
   ]
  },
  {
   "cell_type": "markdown",
   "id": "65f0585f",
   "metadata": {},
   "source": [
    "### 5_Python_Write_a_Program to check if the Entered number is Even or Odd ??"
   ]
  },
  {
   "cell_type": "code",
   "execution_count": 5,
   "id": "c815ba2b",
   "metadata": {},
   "outputs": [
    {
     "name": "stdout",
     "output_type": "stream",
     "text": [
      "44\n"
     ]
    },
    {
     "data": {
      "text/plain": [
       "'Even'"
      ]
     },
     "execution_count": 5,
     "metadata": {},
     "output_type": "execute_result"
    }
   ],
   "source": [
    "def even_or_odd(number):\n",
    "    if number%2==0:\n",
    "        return \"Even\"\n",
    "    else:\n",
    "        return \"Odd\"\n",
    "even_or_odd(int(input()))"
   ]
  },
  {
   "cell_type": "code",
   "execution_count": 23,
   "id": "1c91338a",
   "metadata": {},
   "outputs": [
    {
     "name": "stdout",
     "output_type": "stream",
     "text": [
      "55\n"
     ]
    },
    {
     "data": {
      "text/plain": [
       "'Odd'"
      ]
     },
     "execution_count": 23,
     "metadata": {},
     "output_type": "execute_result"
    }
   ],
   "source": [
    "even_or_odd(int(input()))"
   ]
  },
  {
   "cell_type": "code",
   "execution_count": 24,
   "id": "9dddcc9c",
   "metadata": {},
   "outputs": [
    {
     "name": "stdout",
     "output_type": "stream",
     "text": [
      "1\n"
     ]
    },
    {
     "data": {
      "text/plain": [
       "'Odd'"
      ]
     },
     "execution_count": 24,
     "metadata": {},
     "output_type": "execute_result"
    }
   ],
   "source": [
    "even_or_odd(int(input()))"
   ]
  },
  {
   "cell_type": "code",
   "execution_count": 25,
   "id": "6adb7581",
   "metadata": {},
   "outputs": [
    {
     "name": "stdout",
     "output_type": "stream",
     "text": [
      "2\n"
     ]
    },
    {
     "data": {
      "text/plain": [
       "'Even'"
      ]
     },
     "execution_count": 25,
     "metadata": {},
     "output_type": "execute_result"
    }
   ],
   "source": [
    "even_or_odd(int(input()))"
   ]
  },
  {
   "cell_type": "markdown",
   "id": "45c40f42",
   "metadata": {},
   "source": [
    "### 6_Python_Write_a_Program to find ASCII value of a Character ??"
   ]
  },
  {
   "cell_type": "code",
   "execution_count": 6,
   "id": "9d294bc4",
   "metadata": {},
   "outputs": [
    {
     "name": "stdout",
     "output_type": "stream",
     "text": [
      "r\n"
     ]
    },
    {
     "data": {
      "text/plain": [
       "('Ascii value of r is :', 114)"
      ]
     },
     "execution_count": 6,
     "metadata": {},
     "output_type": "execute_result"
    }
   ],
   "source": [
    "def ascii_value(string):\n",
    "    return \"Ascii value of {} is :\".format(string),ord(string)\n",
    "ascii_value(input())"
   ]
  },
  {
   "cell_type": "code",
   "execution_count": 19,
   "id": "d239d6aa",
   "metadata": {},
   "outputs": [
    {
     "name": "stdout",
     "output_type": "stream",
     "text": [
      "a\n"
     ]
    },
    {
     "data": {
      "text/plain": [
       "('Ascii value of a is :', 97)"
      ]
     },
     "execution_count": 19,
     "metadata": {},
     "output_type": "execute_result"
    }
   ],
   "source": [
    "ascii_value(input())"
   ]
  },
  {
   "cell_type": "code",
   "execution_count": 20,
   "id": "b7e75eb8",
   "metadata": {},
   "outputs": [
    {
     "name": "stdout",
     "output_type": "stream",
     "text": [
      "m\n"
     ]
    },
    {
     "data": {
      "text/plain": [
       "('Ascii value of m is :', 109)"
      ]
     },
     "execution_count": 20,
     "metadata": {},
     "output_type": "execute_result"
    }
   ],
   "source": [
    "ascii_value(input())"
   ]
  },
  {
   "cell_type": "code",
   "execution_count": 21,
   "id": "7a75672c",
   "metadata": {},
   "outputs": [
    {
     "name": "stdout",
     "output_type": "stream",
     "text": [
      "d\n"
     ]
    },
    {
     "data": {
      "text/plain": [
       "('Ascii value of d is :', 100)"
      ]
     },
     "execution_count": 21,
     "metadata": {},
     "output_type": "execute_result"
    }
   ],
   "source": [
    "ascii_value(input())"
   ]
  },
  {
   "cell_type": "code",
   "execution_count": 22,
   "id": "ea0c6eb0",
   "metadata": {},
   "outputs": [
    {
     "name": "stdout",
     "output_type": "stream",
     "text": [
      "a\n"
     ]
    },
    {
     "data": {
      "text/plain": [
       "('Ascii value of a is :', 97)"
      ]
     },
     "execution_count": 22,
     "metadata": {},
     "output_type": "execute_result"
    }
   ],
   "source": [
    "ascii_value(input())"
   ]
  },
  {
   "cell_type": "markdown",
   "id": "16880ec8",
   "metadata": {},
   "source": [
    "### 7_Python_Write a Program to find the Quadrants in which co-ordinates lie ??"
   ]
  },
  {
   "cell_type": "code",
   "execution_count": 7,
   "id": "c966c011",
   "metadata": {},
   "outputs": [
    {
     "name": "stdout",
     "output_type": "stream",
     "text": [
      "5\n",
      "-5\n",
      "point ( 5 , -5 ) lies in the Fourth quadrant\n"
     ]
    }
   ],
   "source": [
    "def quadrants():\n",
    "    x = int(input())\n",
    "    y = int(input())\n",
    "\n",
    "    # find true condition of first quadrant\n",
    "    if x > 0 and y > 0:\n",
    "        print(\"point (\", x, \",\", y, \") lies in the First quadrant\")\n",
    "\n",
    "    # find second quadrant\n",
    "    elif x < 0 and y > 0:\n",
    "        print(\"point (\", x, \",\", y, \") lies in the Second quadrant\")\n",
    "\n",
    "    # To find third quadrant\n",
    "    elif x < 0 and y < 0: \n",
    "        print(\"point (\", x, \",\", y, \") lies in the Third quadrant\")\n",
    "     # To find Fourth quadrant \n",
    "    elif x > 0 and y < 0:\n",
    "        print(\"point (\", x, \",\", y, \") lies in the Fourth quadrant\")\n",
    "\n",
    "    # To find does not lie on origin\n",
    "    elif x == 0 and y == 0:\n",
    "        print(\"point (\", x, \",\", y, \") lies at the origin\")\n",
    "\n",
    "    # On x-axis\n",
    "    elif y == 0 and x != 0:\n",
    "        print(\"point (\", x, \",\", y, \") on x-axis\")\n",
    "\n",
    "    # On y-axis\n",
    "    elif x == 0 and y != 0:\n",
    "        print(\"point (\", x, \",\", y, \") on at y-axis\")\n",
    "quadrants()"
   ]
  },
  {
   "cell_type": "code",
   "execution_count": 14,
   "id": "89740ef3",
   "metadata": {},
   "outputs": [
    {
     "name": "stdout",
     "output_type": "stream",
     "text": [
      "0\n",
      "0\n",
      "point ( 0 , 0 ) lies at the origin\n"
     ]
    }
   ],
   "source": [
    "quadrants()"
   ]
  },
  {
   "cell_type": "code",
   "execution_count": 15,
   "id": "707e2688",
   "metadata": {},
   "outputs": [
    {
     "name": "stdout",
     "output_type": "stream",
     "text": [
      "9\n",
      "0\n",
      "point ( 9 , 0 ) on x-axis\n"
     ]
    }
   ],
   "source": [
    "quadrants()"
   ]
  },
  {
   "cell_type": "code",
   "execution_count": 16,
   "id": "d5153d06",
   "metadata": {},
   "outputs": [
    {
     "name": "stdout",
     "output_type": "stream",
     "text": [
      "9\n",
      "9\n",
      "point ( 9 , 9 ) lies in the First quadrant\n"
     ]
    }
   ],
   "source": [
    "quadrants()"
   ]
  },
  {
   "cell_type": "code",
   "execution_count": 17,
   "id": "994d7110",
   "metadata": {},
   "outputs": [
    {
     "name": "stdout",
     "output_type": "stream",
     "text": [
      "-5\n",
      "-6\n",
      "point ( -5 , -6 ) lies in the Third quadrant\n"
     ]
    }
   ],
   "source": [
    "quadrants()"
   ]
  },
  {
   "cell_type": "code",
   "execution_count": 18,
   "id": "6f7c836a",
   "metadata": {},
   "outputs": [
    {
     "name": "stdout",
     "output_type": "stream",
     "text": [
      "4\n",
      "7\n",
      "point ( 4 , 7 ) lies in the First quadrant\n"
     ]
    }
   ],
   "source": [
    "quadrants()"
   ]
  },
  {
   "cell_type": "markdown",
   "id": "cbd45ad1",
   "metadata": {},
   "source": [
    "### Dharavath Ramdas\n",
    "### Python Coding interview questions link\n",
    "github link : https://lnkd.in/gNZs5b9N"
   ]
  },
  {
   "cell_type": "code",
   "execution_count": null,
   "id": "7a7bf2fe",
   "metadata": {},
   "outputs": [],
   "source": []
  }
 ],
 "metadata": {
  "kernelspec": {
   "display_name": "Python 3 (ipykernel)",
   "language": "python",
   "name": "python3"
  },
  "language_info": {
   "codemirror_mode": {
    "name": "ipython",
    "version": 3
   },
   "file_extension": ".py",
   "mimetype": "text/x-python",
   "name": "python",
   "nbconvert_exporter": "python",
   "pygments_lexer": "ipython3",
   "version": "3.9.7"
  }
 },
 "nbformat": 4,
 "nbformat_minor": 5
}
