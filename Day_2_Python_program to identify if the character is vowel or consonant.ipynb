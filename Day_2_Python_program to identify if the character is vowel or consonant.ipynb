{
 "cells": [
  {
   "cell_type": "markdown",
   "id": "7caa8d55",
   "metadata": {},
   "source": [
    "### Day_2_Python_program to identify if the character is vowel or consonant ??"
   ]
  },
  {
   "cell_type": "code",
   "execution_count": 2,
   "id": "43d239d5",
   "metadata": {},
   "outputs": [
    {
     "name": "stdout",
     "output_type": "stream",
     "text": [
      "a\n"
     ]
    },
    {
     "data": {
      "text/plain": [
       "'Vowel'"
      ]
     },
     "execution_count": 2,
     "metadata": {},
     "output_type": "execute_result"
    }
   ],
   "source": [
    "def vowel_or_consonant(string):\n",
    "    vowel = \"aeiouAEIOU\"\n",
    "    for i in string:\n",
    "        if i in vowel:\n",
    "            return \"Vowel\"\n",
    "        else:\n",
    "            return \"Consonant\"\n",
    "vowel_or_consonant(input())"
   ]
  },
  {
   "cell_type": "code",
   "execution_count": 3,
   "id": "40074730",
   "metadata": {},
   "outputs": [
    {
     "name": "stdout",
     "output_type": "stream",
     "text": [
      "j\n"
     ]
    },
    {
     "data": {
      "text/plain": [
       "'Consonant'"
      ]
     },
     "execution_count": 3,
     "metadata": {},
     "output_type": "execute_result"
    }
   ],
   "source": [
    "vowel_or_consonant(input())"
   ]
  },
  {
   "cell_type": "code",
   "execution_count": 4,
   "id": "7c2e1f9d",
   "metadata": {},
   "outputs": [
    {
     "name": "stdout",
     "output_type": "stream",
     "text": [
      "A\n"
     ]
    },
    {
     "data": {
      "text/plain": [
       "'Vowel'"
      ]
     },
     "execution_count": 4,
     "metadata": {},
     "output_type": "execute_result"
    }
   ],
   "source": [
    "vowel_or_consonant(input())"
   ]
  },
  {
   "cell_type": "code",
   "execution_count": 5,
   "id": "729a4380",
   "metadata": {},
   "outputs": [
    {
     "name": "stdout",
     "output_type": "stream",
     "text": [
      "R\n"
     ]
    },
    {
     "data": {
      "text/plain": [
       "'Consonant'"
      ]
     },
     "execution_count": 5,
     "metadata": {},
     "output_type": "execute_result"
    }
   ],
   "source": [
    "vowel_or_consonant(input())"
   ]
  },
  {
   "cell_type": "code",
   "execution_count": null,
   "id": "8bb5faac",
   "metadata": {},
   "outputs": [],
   "source": []
  }
 ],
 "metadata": {
  "kernelspec": {
   "display_name": "Python 3 (ipykernel)",
   "language": "python",
   "name": "python3"
  },
  "language_info": {
   "codemirror_mode": {
    "name": "ipython",
    "version": 3
   },
   "file_extension": ".py",
   "mimetype": "text/x-python",
   "name": "python",
   "nbconvert_exporter": "python",
   "pygments_lexer": "ipython3",
   "version": "3.9.7"
  }
 },
 "nbformat": 4,
 "nbformat_minor": 5
}
