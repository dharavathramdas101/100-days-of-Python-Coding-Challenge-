{
 "cells": [
  {
   "cell_type": "markdown",
   "id": "e6db268d",
   "metadata": {},
   "source": [
    "### Dharavath Ramdas\n",
    "### Python Coding Interview Questions and Answers link\n",
    "github link : https://lnkd.in/gNZs5b9N"
   ]
  },
  {
   "cell_type": "markdown",
   "id": "5a615975",
   "metadata": {},
   "source": [
    "# Python Coding Interview Questions - 3"
   ]
  },
  {
   "cell_type": "markdown",
   "id": "2c296a5e",
   "metadata": {},
   "source": [
    "### Q.14 Program to find the sum of digits of a given number in Python ?"
   ]
  },
  {
   "cell_type": "code",
   "execution_count": 2,
   "id": "48a2177d",
   "metadata": {},
   "outputs": [
    {
     "name": "stdout",
     "output_type": "stream",
     "text": [
      "Enter Number :123\n"
     ]
    },
    {
     "data": {
      "text/plain": [
       "('Sum of digits :', 6)"
      ]
     },
     "execution_count": 2,
     "metadata": {},
     "output_type": "execute_result"
    }
   ],
   "source": [
    "def sum_digits(num):\n",
    "    sum = 0\n",
    "    for digit in str(num):\n",
    "        sum = sum + int(digit)\n",
    "    return \"Sum of digits :\",sum\n",
    "sum_digits(int(input(\"Enter Number :\")))"
   ]
  },
  {
   "cell_type": "code",
   "execution_count": 4,
   "id": "4189d6ca",
   "metadata": {},
   "outputs": [
    {
     "name": "stdout",
     "output_type": "stream",
     "text": [
      "Enter Number :9182\n"
     ]
    },
    {
     "data": {
      "text/plain": [
       "('Sum of digits :', 20)"
      ]
     },
     "execution_count": 4,
     "metadata": {},
     "output_type": "execute_result"
    }
   ],
   "source": [
    "sum_digits(int(input(\"Enter Number :\")))"
   ]
  },
  {
   "cell_type": "code",
   "execution_count": 5,
   "id": "322422fd",
   "metadata": {},
   "outputs": [
    {
     "name": "stdout",
     "output_type": "stream",
     "text": [
      "Enter Number :5537\n"
     ]
    },
    {
     "data": {
      "text/plain": [
       "('Sum of digits :', 20)"
      ]
     },
     "execution_count": 5,
     "metadata": {},
     "output_type": "execute_result"
    }
   ],
   "source": [
    "sum_digits(int(input(\"Enter Number :\")))"
   ]
  },
  {
   "cell_type": "code",
   "execution_count": 6,
   "id": "cf79fbad",
   "metadata": {},
   "outputs": [
    {
     "name": "stdout",
     "output_type": "stream",
     "text": [
      "Enter Number :5050\n"
     ]
    },
    {
     "data": {
      "text/plain": [
       "('Sum of digits :', 10)"
      ]
     },
     "execution_count": 6,
     "metadata": {},
     "output_type": "execute_result"
    }
   ],
   "source": [
    "sum_digits(int(input(\"Enter Number :\")))"
   ]
  },
  {
   "cell_type": "markdown",
   "id": "d2902e6c",
   "metadata": {},
   "source": [
    "### Q.15 Program to Reverse a given number in Python ?"
   ]
  },
  {
   "cell_type": "code",
   "execution_count": 9,
   "id": "6ce08235",
   "metadata": {},
   "outputs": [
    {
     "name": "stdout",
     "output_type": "stream",
     "text": [
      "Enter number :123\n"
     ]
    },
    {
     "data": {
      "text/plain": [
       "('Reversed Number :', '321')"
      ]
     },
     "execution_count": 9,
     "metadata": {},
     "output_type": "execute_result"
    }
   ],
   "source": [
    "def reverse_number(num):\n",
    "    return \"Reversed Number :\",(str(num)[::-1])\n",
    "reverse_number(int(input(\"Enter number :\")))"
   ]
  },
  {
   "cell_type": "code",
   "execution_count": 10,
   "id": "211553d7",
   "metadata": {},
   "outputs": [
    {
     "name": "stdout",
     "output_type": "stream",
     "text": [
      "Enter number :567\n"
     ]
    },
    {
     "data": {
      "text/plain": [
       "('Reversed Number :', '765')"
      ]
     },
     "execution_count": 10,
     "metadata": {},
     "output_type": "execute_result"
    }
   ],
   "source": [
    "reverse_number(int(input(\"Enter number :\")))"
   ]
  },
  {
   "cell_type": "code",
   "execution_count": 11,
   "id": "8075f72d",
   "metadata": {},
   "outputs": [
    {
     "name": "stdout",
     "output_type": "stream",
     "text": [
      "Enter number :199\n"
     ]
    },
    {
     "data": {
      "text/plain": [
       "('Reversed Number :', '991')"
      ]
     },
     "execution_count": 11,
     "metadata": {},
     "output_type": "execute_result"
    }
   ],
   "source": [
    "reverse_number(int(input(\"Enter number :\")))"
   ]
  },
  {
   "cell_type": "code",
   "execution_count": 13,
   "id": "360abbbb",
   "metadata": {},
   "outputs": [
    {
     "name": "stdout",
     "output_type": "stream",
     "text": [
      "Enter number :389\n"
     ]
    },
    {
     "data": {
      "text/plain": [
       "('Reversed Number :', '983')"
      ]
     },
     "execution_count": 13,
     "metadata": {},
     "output_type": "execute_result"
    }
   ],
   "source": [
    "reverse_number(int(input(\"Enter number :\")))"
   ]
  },
  {
   "cell_type": "markdown",
   "id": "d48a6993",
   "metadata": {},
   "source": [
    "### Q.16 Program to check whether a given number is Strong or Not in Python ?"
   ]
  },
  {
   "cell_type": "code",
   "execution_count": 18,
   "id": "6d369000",
   "metadata": {},
   "outputs": [],
   "source": [
    "# identify individual digits \n",
    "# find factorial for digits\n",
    "# sum all the factorial of individual digits"
   ]
  },
  {
   "cell_type": "code",
   "execution_count": 2,
   "id": "9dce8ccf",
   "metadata": {},
   "outputs": [
    {
     "name": "stdout",
     "output_type": "stream",
     "text": [
      "145\n",
      "digits 5\n",
      "factorial 120\n",
      "sum : 120\n",
      "digits 4\n",
      "factorial 24\n",
      "sum : 144\n",
      "digits 1\n",
      "factorial 1\n",
      "sum : 145\n",
      "145 is strong number \n"
     ]
    }
   ],
   "source": [
    "n = int(input())\n",
    "temp = n\n",
    "sum = 0\n",
    "while n>0:\n",
    "    rem = n%10\n",
    "    fact = 1\n",
    "    \n",
    "    print(\"digits\",rem)\n",
    "    for i in range(1,rem+1):\n",
    "        fact = fact*i\n",
    "    print(\"factorial\",fact)\n",
    "    sum = sum + fact\n",
    "    print(\"sum :\",sum)\n",
    "    n = n//10\n",
    "if sum == temp:\n",
    "    print(temp,\"is strong number \")\n",
    "else:\n",
    "    print(temp,\"not strong number \")"
   ]
  },
  {
   "cell_type": "markdown",
   "id": "812241fd",
   "metadata": {},
   "source": [
    "### Q.17 Program to check given number is perfect number or not in python ?"
   ]
  },
  {
   "cell_type": "code",
   "execution_count": 3,
   "id": "15aa3e57",
   "metadata": {},
   "outputs": [],
   "source": [
    "# A number which is equal to sum of all its factors except given number is known as perfect number \n",
    "# n = 6\n",
    "# fact of 6 1,2,3\n",
    "# sum 1+2+3 = 6 so perfect number\n",
    "# 6%1=0,652=0,6%3=0,6%4=2,6%5=1\n"
   ]
  },
  {
   "cell_type": "code",
   "execution_count": 8,
   "id": "c18f15f3",
   "metadata": {},
   "outputs": [
    {
     "name": "stdout",
     "output_type": "stream",
     "text": [
      "Enter Number :6\n",
      "1 2 3 6 is a perfect number\n"
     ]
    }
   ],
   "source": [
    "n=int(input(\"Enter Number :\"))\n",
    "sum = 0\n",
    "for i in range(1,n):\n",
    "    if n%i == 0:\n",
    "        print(i,end=\" \")\n",
    "        sum = sum + i\n",
    "if sum == n:\n",
    "    print(n,\"is a perfect number\")\n",
    "else:\n",
    "    print(n,\"is not a perfect number \")\n",
    "    "
   ]
  },
  {
   "cell_type": "markdown",
   "id": "31fdb697",
   "metadata": {},
   "source": [
    "### Q.18 Factors of a given number ?"
   ]
  },
  {
   "cell_type": "code",
   "execution_count": 15,
   "id": "b4d24d44",
   "metadata": {},
   "outputs": [
    {
     "name": "stdout",
     "output_type": "stream",
     "text": [
      "Enter Number :8\n",
      "Factors of a number 8: 1\n",
      "Factors of a number 8: 2\n",
      "Factors of a number 8: 4\n",
      "Factors of a number 8: 8\n"
     ]
    }
   ],
   "source": [
    "n = int(input(\"Enter Number :\"))\n",
    "for i in range(1,n+1):\n",
    "    if (n%i == 0):\n",
    "        print(\"Factors of a number {}:\".format(n),i)"
   ]
  },
  {
   "cell_type": "markdown",
   "id": "1b2e3f57",
   "metadata": {},
   "source": [
    "### Q.19 Addition of two Fractions in python ?"
   ]
  },
  {
   "cell_type": "code",
   "execution_count": 18,
   "id": "bdb97db6",
   "metadata": {},
   "outputs": [
    {
     "name": "stdout",
     "output_type": "stream",
     "text": [
      "Enter Number :2\n",
      "Enter Number :3\n",
      "Enter Number :2\n",
      "Enter Number :3\n",
      "1.3333333333333333\n",
      "the result 12/9 result is : 1.3333333333333333\n"
     ]
    }
   ],
   "source": [
    "a = int(input(\"Enter Number :\"))\n",
    "b = int(input(\"Enter Number :\"))\n",
    "c = int(input(\"Enter Number :\"))\n",
    "d = int(input(\"Enter Number :\"))\n",
    "result1 = (a*d)+(c*b)\n",
    "result2 = (b*d)\n",
    "print(result1/result2)\n",
    "print(\"the result {}/{} result is :\".format(result1,result2),result1/result2)"
   ]
  },
  {
   "cell_type": "code",
   "execution_count": null,
   "id": "b0cc0824",
   "metadata": {},
   "outputs": [],
   "source": []
  }
 ],
 "metadata": {
  "kernelspec": {
   "display_name": "Python 3 (ipykernel)",
   "language": "python",
   "name": "python3"
  },
  "language_info": {
   "codemirror_mode": {
    "name": "ipython",
    "version": 3
   },
   "file_extension": ".py",
   "mimetype": "text/x-python",
   "name": "python",
   "nbconvert_exporter": "python",
   "pygments_lexer": "ipython3",
   "version": "3.9.7"
  }
 },
 "nbformat": 4,
 "nbformat_minor": 5
}
