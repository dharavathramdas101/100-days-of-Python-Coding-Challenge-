{
 "cells": [
  {
   "cell_type": "markdown",
   "id": "899b6ab6",
   "metadata": {},
   "source": [
    "### Day_6_Python_Write_a_Program to find ASCII value of a Character ??"
   ]
  },
  {
   "cell_type": "code",
   "execution_count": 3,
   "id": "d5322a10",
   "metadata": {},
   "outputs": [
    {
     "name": "stdout",
     "output_type": "stream",
     "text": [
      "r\n"
     ]
    },
    {
     "data": {
      "text/plain": [
       "('Ascii value of r is :', 114)"
      ]
     },
     "execution_count": 3,
     "metadata": {},
     "output_type": "execute_result"
    }
   ],
   "source": [
    "def ascii_value(string):\n",
    "    return \"Ascii value of {} is :\".format(string),ord(string)\n",
    "ascii_value(input())"
   ]
  },
  {
   "cell_type": "code",
   "execution_count": 4,
   "id": "c7ddd2c5",
   "metadata": {},
   "outputs": [
    {
     "name": "stdout",
     "output_type": "stream",
     "text": [
      "a\n"
     ]
    },
    {
     "data": {
      "text/plain": [
       "('Ascii value of a is :', 97)"
      ]
     },
     "execution_count": 4,
     "metadata": {},
     "output_type": "execute_result"
    }
   ],
   "source": [
    "ascii_value(input())"
   ]
  },
  {
   "cell_type": "code",
   "execution_count": 5,
   "id": "efda2066",
   "metadata": {},
   "outputs": [
    {
     "name": "stdout",
     "output_type": "stream",
     "text": [
      "m\n"
     ]
    },
    {
     "data": {
      "text/plain": [
       "('Ascii value of m is :', 109)"
      ]
     },
     "execution_count": 5,
     "metadata": {},
     "output_type": "execute_result"
    }
   ],
   "source": [
    "ascii_value(input())"
   ]
  },
  {
   "cell_type": "code",
   "execution_count": 6,
   "id": "fb6e670f",
   "metadata": {},
   "outputs": [
    {
     "name": "stdout",
     "output_type": "stream",
     "text": [
      "d\n"
     ]
    },
    {
     "data": {
      "text/plain": [
       "('Ascii value of d is :', 100)"
      ]
     },
     "execution_count": 6,
     "metadata": {},
     "output_type": "execute_result"
    }
   ],
   "source": [
    "ascii_value(input())"
   ]
  },
  {
   "cell_type": "code",
   "execution_count": 7,
   "id": "311bc41c",
   "metadata": {},
   "outputs": [
    {
     "name": "stdout",
     "output_type": "stream",
     "text": [
      "a\n"
     ]
    },
    {
     "data": {
      "text/plain": [
       "('Ascii value of a is :', 97)"
      ]
     },
     "execution_count": 7,
     "metadata": {},
     "output_type": "execute_result"
    }
   ],
   "source": [
    "ascii_value(input())"
   ]
  },
  {
   "cell_type": "code",
   "execution_count": 8,
   "id": "e5f4b2ae",
   "metadata": {},
   "outputs": [
    {
     "name": "stdout",
     "output_type": "stream",
     "text": [
      "s\n"
     ]
    },
    {
     "data": {
      "text/plain": [
       "('Ascii value of s is :', 115)"
      ]
     },
     "execution_count": 8,
     "metadata": {},
     "output_type": "execute_result"
    }
   ],
   "source": [
    "ascii_value(input())"
   ]
  },
  {
   "cell_type": "code",
   "execution_count": null,
   "id": "9db84a10",
   "metadata": {},
   "outputs": [],
   "source": []
  }
 ],
 "metadata": {
  "kernelspec": {
   "display_name": "Python 3 (ipykernel)",
   "language": "python",
   "name": "python3"
  },
  "language_info": {
   "codemirror_mode": {
    "name": "ipython",
    "version": 3
   },
   "file_extension": ".py",
   "mimetype": "text/x-python",
   "name": "python",
   "nbconvert_exporter": "python",
   "pygments_lexer": "ipython3",
   "version": "3.9.7"
  }
 },
 "nbformat": 4,
 "nbformat_minor": 5
}
